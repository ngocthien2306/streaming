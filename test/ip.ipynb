{
 "cells": [
  {
   "cell_type": "code",
   "execution_count": 1,
   "metadata": {},
   "outputs": [
    {
     "name": "stdout",
     "output_type": "stream",
     "text": [
      "IPv4 Address: 26.30.0.242\n"
     ]
    }
   ],
   "source": [
    "import socket\n",
    "\n",
    "def get_ipv4_address():\n",
    "    # Get the hostname of the local machine\n",
    "    hostname = socket.gethostname()\n",
    "\n",
    "    # Get the IPv4 address associated with the hostname\n",
    "    ipv4_address = socket.gethostbyname(hostname)\n",
    "\n",
    "    return ipv4_address\n",
    "\n",
    "if __name__ == \"__main__\":\n",
    "    ipv4_address = get_ipv4_address()\n",
    "    print(f\"IPv4 Address: {ipv4_address}\")\n"
   ]
  },
  {
   "cell_type": "code",
   "execution_count": 3,
   "metadata": {},
   "outputs": [
    {
     "name": "stdout",
     "output_type": "stream",
     "text": [
      "External IPv4 Address: 14.225.44.34\n"
     ]
    }
   ],
   "source": [
    "import requests\n",
    "\n",
    "def get_external_ipv4_address():\n",
    "    response = requests.get(\"https://api64.ipify.org?format=json\")\n",
    "    data = response.json()\n",
    "    ipv4_address = data[\"ip\"]\n",
    "    return ipv4_address\n",
    "\n",
    "if __name__ == \"__main__\":\n",
    "    external_ipv4_address = get_external_ipv4_address()\n",
    "    print(f\"External IPv4 Address: {external_ipv4_address}\")\n"
   ]
  },
  {
   "cell_type": "code",
   "execution_count": 4,
   "metadata": {},
   "outputs": [
    {
     "name": "stdout",
     "output_type": "stream",
     "text": [
      "Computer Name: DESKTOP-BIDDRQT\n"
     ]
    }
   ],
   "source": [
    "import socket\n",
    "\n",
    "def get_computer_name():\n",
    "    # Get the hostname of the local machine\n",
    "    computer_name = socket.gethostname()\n",
    "    return computer_name\n",
    "\n",
    "if __name__ == \"__main__\":\n",
    "    computer_name = get_computer_name()\n",
    "    print(f\"Computer Name: {computer_name}\")\n"
   ]
  }
 ],
 "metadata": {
  "kernelspec": {
   "display_name": "fence",
   "language": "python",
   "name": "python3"
  },
  "language_info": {
   "codemirror_mode": {
    "name": "ipython",
    "version": 3
   },
   "file_extension": ".py",
   "mimetype": "text/x-python",
   "name": "python",
   "nbconvert_exporter": "python",
   "pygments_lexer": "ipython3",
   "version": "3.8.18"
  }
 },
 "nbformat": 4,
 "nbformat_minor": 2
}
